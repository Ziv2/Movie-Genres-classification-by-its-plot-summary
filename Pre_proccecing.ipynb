{
 "cells": [
  {
   "cell_type": "code",
   "execution_count": 4,
   "metadata": {
    "collapsed": true
   },
   "outputs": [],
   "source": [
    "import json\n",
    "import numpy as np\n",
    "import pandas as pd\n",
    "from sklearn.preprocessing import MultiLabelBinarizer\n",
    "import matplotlib.pyplot as plt"
   ]
  },
  {
   "cell_type": "code",
   "execution_count": 5,
   "outputs": [],
   "source": [
    "with open('train.json', 'r') as handle:\n",
    "    json_data = [json.loads(line) for line in handle]\n",
    "myKeys = set()\n",
    "mygenres = set()\n",
    "genres =[]\n",
    "plot = []\n",
    "for i in range(len(json_data)):\n",
    "    if 'genres' in json_data[i].keys():\n",
    "        a = json_data[i]['genres']\n",
    "        genres.append(a.values())\n",
    "        plot.append(json_data[i]['plot_summary'])\n",
    "        mygenres.update(a.values())\n",
    "        myKeys.update(a.keys())\n"
   ],
   "metadata": {
    "collapsed": false,
    "pycharm": {
     "name": "#%%\n"
    }
   }
  },
  {
   "cell_type": "markdown",
   "source": [
    "I want to know the plots length distribution, in order to decide how to feed the seq embeddings model. (I wanted to feed it with the start and with the end of each plot, but I didn't realized this)"
   ],
   "metadata": {
    "collapsed": false
   }
  },
  {
   "cell_type": "code",
   "execution_count": 6,
   "outputs": [
    {
     "data": {
      "text/plain": "<Figure size 640x480 with 1 Axes>",
      "image/png": "[encoded data removed]"
     },
     "metadata": {},
     "output_type": "display_data"
    }
   ],
   "source": [
    "x = [len(l) for l in plot]\n",
    "plt.hist(x, density=False, bins=100)  # density=False would make counts\n",
    "plt.ylabel('How many plots have this length')\n",
    "plt.xlabel('Plot length');\n",
    "plt.show()"
   ],
   "metadata": {
    "collapsed": false,
    "pycharm": {
     "name": "#%%\n"
    }
   }
  },
  {
   "cell_type": "code",
   "execution_count": 7,
   "outputs": [],
   "source": [
    "df = pd.DataFrame(columns = mygenres)\n",
    "mlb = MultiLabelBinarizer()\n",
    "mlb_result = mlb.fit_transform(genres)\n",
    "df1 = pd.concat([pd.DataFrame(genres), pd.DataFrame(mlb_result,columns=list(mlb.classes_))],axis=1)#"
   ],
   "metadata": {
    "collapsed": false,
    "pycharm": {
     "name": "#%%\n"
    }
   }
  },
  {
   "cell_type": "code",
   "execution_count": 8,
   "outputs": [],
   "source": [
    "# drop the irrelevant columns:\n",
    "df2 = df1.drop(df1.iloc[:, 0:16].columns, axis=1)"
   ],
   "metadata": {
    "collapsed": false,
    "pycharm": {
     "name": "#%%\n"
    }
   }
  },
  {
   "cell_type": "markdown",
   "source": [
    "# Before I clean the data, I concat plots to their labels:"
   ],
   "metadata": {
    "collapsed": false,
    "pycharm": {
     "name": "#%% md\n"
    }
   }
  },
  {
   "cell_type": "code",
   "execution_count": 9,
   "outputs": [],
   "source": [
    "df3 = pd.DataFrame(plot)\n",
    "df4 = pd.concat((df3.rename(columns={df3.columns[0]: 'Plots'}), df2), axis=1)"
   ],
   "metadata": {
    "collapsed": false,
    "pycharm": {
     "name": "#%%\n"
    }
   }
  },
  {
   "cell_type": "code",
   "execution_count": 10,
   "outputs": [
    {
     "name": "stdout",
     "output_type": "stream",
     "text": [
      "This step cleaned 279 unlabeled plots\n"
     ]
    }
   ],
   "source": [
    "categories_per_plot = df2.sum(axis=1).values\n",
    "for i in reversed(range(categories_per_plot.shape[0])):\n",
    "    if categories_per_plot[i] == 0:\n",
    "        df4 = df4.drop(labels=df4.iloc[i].name, axis=0)\n",
    "print(\"This step cleaned\", df2.shape[0]-df4.shape[0], \"unlabeled plots\")"
   ],
   "metadata": {
    "collapsed": false,
    "pycharm": {
     "name": "#%%\n"
    }
   }
  },
  {
   "cell_type": "code",
   "execution_count": 11,
   "outputs": [
    {
     "name": "stdout",
     "output_type": "stream",
     "text": [
      " Average number of categories per plot: 3.5938670175083494\n"
     ]
    }
   ],
   "source": [
    "categories_per_plot2 = df4.iloc[:, 1:df4.shape[1]].sum(axis=1)\n",
    "print(\" Average number of categories per plot:\", np.average(categories_per_plot2))"
   ],
   "metadata": {
    "collapsed": false,
    "pycharm": {
     "name": "#%%\n"
    }
   }
  },
  {
   "cell_type": "markdown",
   "source": [
    "After I had low quality results, I decided to remove rare categories.\n",
    "I made ***a significant efforts*** to find an optimal balance between number of categories to the lost of data samples.\n",
    "Finally I drew back and deleted this code."
   ],
   "metadata": {
    "collapsed": false,
    "pycharm": {
     "name": "#%% md\n"
    }
   }
  },
  {
   "cell_type": "code",
   "execution_count": 12,
   "outputs": [],
   "source": [
    "# Save a tiny dataset in order to check the flow\n",
    "df5 = df4.iloc[0:300, :]"
   ],
   "metadata": {
    "collapsed": false,
    "pycharm": {
     "name": "#%%\n"
    }
   }
  },
  {
   "cell_type": "code",
   "execution_count": 13,
   "outputs": [],
   "source": [
    "df5.to_csv(path_or_buf='300.csv', index=False, header=False)"
   ],
   "metadata": {
    "collapsed": false,
    "pycharm": {
     "name": "#%%\n"
    }
   }
  },
  {
   "cell_type": "markdown",
   "source": [
    "# Pruning the rare categories\n",
    "(only results, without the code)"
   ],
   "metadata": {
    "collapsed": false
   }
  },
  {
   "cell_type": "markdown",
   "source": [
    "Below is an example from my tests to find a good trade off between decreasing the sparsity of the data and to the lost of data samples."
   ],
   "metadata": {
    "collapsed": false,
    "pycharm": {
     "name": "#%% md\n"
    }
   }
  },
  {
   "cell_type": "code",
   "execution_count": 14,
   "outputs": [
    {
     "name": "stdout",
     "output_type": "stream",
     "text": [
      "There are 356 classes. \n",
      " I used pruning_thresholds of [1, 2, 3, 4, 5, 10, 50] After pruning, there were  [333, 282, 268, 231, 154] number of classes, respective to the above thresholds.\n"
     ]
    },
    {
     "data": {
      "text/plain": "<Figure size 640x480 with 1 Axes>",
      "image/png": "[encoded data removed]"
     },
     "metadata": {},
     "output_type": "display_data"
    }
   ],
   "source": [
    "pruning_threshold= [ 1, 2, 3, 4, 5, 10,50]\n",
    "omitted_classes = [23, 25, 14, 12, 14, 37, 77]\n",
    "deleted_items = [5, 76, 200, 1, 28, 1155, 1231]\n",
    "print(\"There are 356 classes. \\n I used pruning_thresholds of\",pruning_threshold,\"After pruning, there were \" , [333, 282, 268, 231, 154], \"number of classes, respective to the above thresholds.\")\n",
    "ratio = [i / j for i, j in zip(deleted_items, omitted_classes)]\n",
    "plt.scatter(pruning_threshold, ratio)\n",
    "plt.title('Pruning impact')\n",
    "plt.xlabel(\"Pruning threshold\")\n",
    "plt.ylabel(\"Ratio between deleted items to omitted classes.\")\n",
    "plt.show()"
   ],
   "metadata": {
    "collapsed": false,
    "pycharm": {
     "name": "#%%\n"
    }
   }
  },
  {
   "cell_type": "markdown",
   "source": [
    "# I choose not to do any pruning because it didn't reduce enough the sparsity."
   ],
   "metadata": {
    "collapsed": false,
    "pycharm": {
     "name": "#%% md\n"
    }
   }
  }
 ],
 "metadata": {
  "kernelspec": {
   "display_name": "Python 3",
   "language": "python",
   "name": "python3"
  },
  "language_info": {
   "codemirror_mode": {
    "name": "ipython",
    "version": 2
   },
   "file_extension": ".py",
   "mimetype": "text/x-python",
   "name": "python",
   "nbconvert_exporter": "python",
   "pygments_lexer": "ipython2",
   "version": "2.7.6"
  }
 },
 "nbformat": 4,
 "nbformat_minor": 0
}